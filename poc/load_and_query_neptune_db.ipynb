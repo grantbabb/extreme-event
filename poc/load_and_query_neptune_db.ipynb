{
 "cells": [
  {
   "cell_type": "code",
   "execution_count": 1,
   "id": "a4aabcf9-ab66-4d57-a1b8-572140696754",
   "metadata": {
    "scrolled": true
   },
   "outputs": [
    {
     "name": "stdout",
     "output_type": "stream",
     "text": [
      "Requirement already satisfied: requests-auth-aws-sigv4 in /home/ec2-user/anaconda3/envs/pytorch_p310/lib/python3.10/site-packages (0.7)\n",
      "Requirement already satisfied: requests in /home/ec2-user/anaconda3/envs/pytorch_p310/lib/python3.10/site-packages (from requests-auth-aws-sigv4) (2.32.5)\n",
      "Requirement already satisfied: charset_normalizer<4,>=2 in /home/ec2-user/anaconda3/envs/pytorch_p310/lib/python3.10/site-packages (from requests->requests-auth-aws-sigv4) (3.4.3)\n",
      "Requirement already satisfied: idna<4,>=2.5 in /home/ec2-user/anaconda3/envs/pytorch_p310/lib/python3.10/site-packages (from requests->requests-auth-aws-sigv4) (3.10)\n",
      "Requirement already satisfied: urllib3<3,>=1.21.1 in /home/ec2-user/anaconda3/envs/pytorch_p310/lib/python3.10/site-packages (from requests->requests-auth-aws-sigv4) (1.26.19)\n",
      "Requirement already satisfied: certifi>=2017.4.17 in /home/ec2-user/anaconda3/envs/pytorch_p310/lib/python3.10/site-packages (from requests->requests-auth-aws-sigv4) (2025.10.5)\n"
     ]
    }
   ],
   "source": [
    "!pip install requests-auth-aws-sigv4"
   ]
  },
  {
   "cell_type": "code",
   "execution_count": 2,
   "id": "d2b85c17-3c16-46ee-b932-d72bbf8ab220",
   "metadata": {},
   "outputs": [],
   "source": [
    "import time \n",
    "import requests \n",
    "from requests_auth_aws_sigv4 import AWSSigV4\n",
    "import json\n",
    "import boto3\n",
    "import os\n",
    "from typing import List, Optional\n",
    "VERIFY_TLS = True"
   ]
  },
  {
   "cell_type": "code",
   "execution_count": 35,
   "id": "fa68be07-5fc2-4bbb-8afe-02aa00742eab",
   "metadata": {},
   "outputs": [],
   "source": [
    "neptune_endpoint = \"db-neptune-dev.cluster-criq8uemaejw.us-west-2.neptune.amazonaws.com\"\n",
    "port=8182\n",
    "region = 'us-west-2'\n",
    "service = 'neptune-db'\n",
    "url = f\"https://{neptune_endpoint}:{port}/\"\n",
    "load = \"loader/\"\n",
    "query = \"openCypher/\""
   ]
  },
  {
   "cell_type": "markdown",
   "id": "fb70324b-67df-4712-9ea0-3c8e64da1a5d",
   "metadata": {},
   "source": [
    "##### Convert GR to CSV"
   ]
  },
  {
   "cell_type": "code",
   "execution_count": 29,
   "id": "84a07155-ae33-4cb5-8872-22c1310fd2a6",
   "metadata": {},
   "outputs": [
    {
     "name": "stdout",
     "output_type": "stream",
     "text": [
      "58333345\n"
     ]
    }
   ],
   "source": [
    "data_path = \"data/datasets/roads/\"\n",
    "in_gr_path  = data_path+\"USA-road-d.USA.gr\"\n",
    "out_csv_path = data_path+\"edges.csv\"\n",
    "\n",
    "with open(\"../\"+in_gr_path,'r') as f:\n",
    "    with open(\"../\"+out_csv_path,'w') as g:\n",
    "        # ~id,~from,~to,~label,distance:Double\n",
    "        # Empty string (\"\") is a valid id, and the edge is created with an empty string as the id.\n",
    "        # Labels are case sensitive and cannot be empty. A value of \"\" will result in an error.\n",
    "        g.write(\":START_ID,:END_ID,:TYPE,weight:Long\\n\")\n",
    "        j = 1\n",
    "        for line in f:\n",
    "            if line.startswith('a '):\n",
    "                if j % 2 == 0:\n",
    "                    line = line.replace('a ','').replace(' ',',')\n",
    "                    g.write(line)\n",
    "                j+=1\n",
    "print(j)"
   ]
  },
  {
   "cell_type": "code",
   "execution_count": 20,
   "id": "62e42ad8-4cde-4ae6-b694-62b0c97dbe67",
   "metadata": {},
   "outputs": [
    {
     "name": "stdout",
     "output_type": "stream",
     "text": [
      "23947348\n"
     ]
    }
   ],
   "source": [
    "data_path = \"data/datasets/roads/\"\n",
    "in_gr_path  = data_path+\"USA-road-d.USA.co\"\n",
    "out_csv_path = data_path+\"nodes.csv\"\n",
    "\n",
    "with open(\"../\"+in_gr_path,'r') as f:\n",
    "    with open(\"../\"+out_csv_path,'w') as g:\n",
    "        g.write(\":ID,longitude:Long,latitude:Long\\n\")\n",
    "        j=1\n",
    "        for line in f:\n",
    "            if line.startswith('v '):\n",
    "                line = line.replace('v ', '').replace(' ', ',')\n",
    "                g.write(line)\n",
    "                j+=1\n",
    "print(j)"
   ]
  },
  {
   "cell_type": "code",
   "execution_count": 30,
   "id": "21259768-5bc9-40bc-bc9c-1fadc30bbaaa",
   "metadata": {},
   "outputs": [],
   "source": [
    "def upload_csvs_to_s3(bucket: str, prefix: str, \n",
    "                      local_files: List[str],\n",
    "                      region: str) -> None:\n",
    "    s3 = boto3.client(\"s3\", region_name=region)\n",
    "    for local_path in local_files:\n",
    "        key = f\"{prefix.rstrip('/')}/{os.path.basename(local_path)}\"\n",
    "        print(f\"Uploading {local_path} -> s3://{bucket}/{key}\")\n",
    "        s3.upload_file(local_path, bucket, key)\n",
    "\n",
    "\n",
    "def poll_bulk_load(neptune_endpoint: str, port: int, load_id: str, \n",
    "                   poll_seconds: int = 10) -> dict:\n",
    "    url = f\"https://{neptune_endpoint}:{port}/loader/{load_id}\"\n",
    "    terminal = {\"LOAD_COMPLETED\", \"LOAD_FAILED\", \"LOAD_CANCELLED\"}\n",
    "    while True:\n",
    "        aws_auth = AWSSigV4(service, region=region)\n",
    "        resp = requests.get(url, timeout=30, verify=VERIFY_TLS, auth=aws_auth)\n",
    "        resp.raise_for_status()\n",
    "        data = resp.json()\n",
    "        overall = data.get(\"payload\", {}).get(\"overallStatus\", {})\n",
    "        status = overall.get(\"status\") or overall.get(\"overallStatus\")  \n",
    "        # some versions use 'status'\n",
    "        progress = overall.get(\"totalRecords\") or overall.get(\"totalTimeSpent\")\n",
    "        print(f\"Status: {status} | Progress: {progress}\")\n",
    "        if status in terminal:\n",
    "            return data\n",
    "        time.sleep(poll_seconds)"
   ]
  },
  {
   "cell_type": "code",
   "execution_count": 31,
   "id": "5c8b7b22-5183-4b13-aed6-2c8dd667b118",
   "metadata": {},
   "outputs": [
    {
     "name": "stdout",
     "output_type": "stream",
     "text": [
      "Uploading ../data/datasets/roads/edges.csv -> s3://datasets-in-out/input/road-usa/edges.csv\n"
     ]
    }
   ],
   "source": [
    "S3_BUCKET='datasets-in-out'\n",
    "S3_PREFIX='input/road-usa/'\n",
    "LOCAL_EDGE_FILE = \"../data/datasets/roads/edges.csv\"\n",
    "LOCAL_NODE_FILE = \"../data/datasets/roads/nodes.csv\"\n",
    "AWS_REGION = 'us-west-2'\n",
    "\n",
    "upload_csvs_to_s3(\n",
    "                  bucket=S3_BUCKET,\n",
    "                  prefix=S3_PREFIX,\n",
    "                  local_files=(\"../data/datasets/roads/edges.csv\",\n",
    "                                ),\n",
    "                  region=AWS_REGION,\n",
    "                 )"
   ]
  },
  {
   "cell_type": "code",
   "execution_count": 37,
   "id": "6d966ec4-d5b5-49a6-a23d-22059a33cd2b",
   "metadata": {},
   "outputs": [
    {
     "name": "stdout",
     "output_type": "stream",
     "text": [
      "{'source': 's3://datasets-in-out/input/road-usa/', 'format': 'opencypher', 'iamRoleArn': 'arn:aws:iam::063299843915:role/service-role/AWSNeptuneNotebookRole-NeptuneNbUser', 'region': 'us-west-2', 'failOnError': 'FALSE', 'parallelism': 'LOW', 'queueRequest': 'TRUE', 'userProvidedEdgeIds': 'FALSE', 'edgeOnlyLoad': 'TRUE'}\n",
      "Bulk load started. loadId=c653d91f-cfe8-41fa-a0b9-f9c67f6a9dc8\n"
     ]
    }
   ],
   "source": [
    "payload = {\n",
    "    \"source\": \"s3://datasets-in-out/input/road-usa/\",\n",
    "    \"format\": \"opencypher\",  # Neptune CSV (nodes/edges)\n",
    "    \"iamRoleArn\": \"arn:aws:iam::063299843915:role/service-role/AWSNeptuneNotebookRole-NeptuneNbUser\",\n",
    "    \"region\": \"us-west-2\",\n",
    "    \"failOnError\": \"FALSE\",\n",
    "    \"parallelism\": \"LOW\",\n",
    "    \"queueRequest\": \"TRUE\",\n",
    "    # Set to True if your edge CSV has ~id; otherwise False to auto-generate\n",
    "    \"userProvidedEdgeIds\": \"FALSE\",\n",
    "    \"edgeOnlyLoad\": \"TRUE\",\n",
    "    # Optional parser tweaks:\n",
    "    # \"parserConfiguration\": {\"ignoreEmptyStrings\": True, \"allowNull\": True}\n",
    "}\n",
    "print(payload)\n",
    "\n",
    "url = f\"https://{neptune_endpoint}:{port}/loader\"\n",
    "aws_auth = AWSSigV4(service, region=region)\n",
    "resp = requests.post(url, \n",
    "                 json=payload, \n",
    "                 timeout=180, \n",
    "                 verify=VERIFY_TLS,\n",
    "                 auth=aws_auth\n",
    "                 # headers=headers\n",
    "                )                        \n",
    "#resp.raise_for_status()\n",
    "data = resp.json()\n",
    "load_id = data.get(\"payload\", {}).get(\"loadId\")\n",
    "if not load_id:\n",
    "    raise RuntimeError(f\"Bulk load start did not return loadId: {json.dumps(data, indent=2)}\")\n",
    "print(f\"Bulk load started. loadId={load_id}\")                                        "
   ]
  },
  {
   "cell_type": "code",
   "execution_count": 38,
   "id": "2fc46bf8-e78e-49a6-98a1-b6208d77fca1",
   "metadata": {
    "scrolled": true
   },
   "outputs": [
    {
     "name": "stdout",
     "output_type": "stream",
     "text": [
      "Status: LOAD_IN_PROGRESS | Progress: 4\n",
      "Status: LOAD_IN_PROGRESS | Progress: 30000\n",
      "Status: LOAD_IN_PROGRESS | Progress: 90000\n",
      "Status: LOAD_IN_PROGRESS | Progress: 150000\n",
      "Status: LOAD_IN_PROGRESS | Progress: 210000\n",
      "Status: LOAD_IN_PROGRESS | Progress: 270000\n",
      "Status: LOAD_IN_PROGRESS | Progress: 360000\n",
      "Status: LOAD_IN_PROGRESS | Progress: 450000\n",
      "Status: LOAD_IN_PROGRESS | Progress: 540000\n",
      "Status: LOAD_IN_PROGRESS | Progress: 690000\n",
      "Status: LOAD_IN_PROGRESS | Progress: 810000\n",
      "Status: LOAD_IN_PROGRESS | Progress: 930000\n",
      "Status: LOAD_IN_PROGRESS | Progress: 1080000\n",
      "Status: LOAD_IN_PROGRESS | Progress: 1230000\n",
      "Status: LOAD_IN_PROGRESS | Progress: 1380000\n",
      "Status: LOAD_IN_PROGRESS | Progress: 1530000\n",
      "Status: LOAD_IN_PROGRESS | Progress: 1650000\n",
      "Status: LOAD_IN_PROGRESS | Progress: 1800000\n",
      "Status: LOAD_IN_PROGRESS | Progress: 1950000\n",
      "Status: LOAD_IN_PROGRESS | Progress: 2100000\n",
      "Status: LOAD_IN_PROGRESS | Progress: 2250000\n",
      "Status: LOAD_IN_PROGRESS | Progress: 2400000\n",
      "Status: LOAD_IN_PROGRESS | Progress: 2550000\n",
      "Status: LOAD_IN_PROGRESS | Progress: 2700000\n",
      "Status: LOAD_IN_PROGRESS | Progress: 2850000\n",
      "Status: LOAD_IN_PROGRESS | Progress: 3000000\n",
      "Status: LOAD_IN_PROGRESS | Progress: 3150000\n",
      "Status: LOAD_IN_PROGRESS | Progress: 3300000\n",
      "Status: LOAD_IN_PROGRESS | Progress: 3450000\n",
      "Status: LOAD_IN_PROGRESS | Progress: 3600000\n",
      "Status: LOAD_IN_PROGRESS | Progress: 3750000\n",
      "Status: LOAD_IN_PROGRESS | Progress: 3900000\n",
      "Status: LOAD_IN_PROGRESS | Progress: 4050000\n",
      "Status: LOAD_IN_PROGRESS | Progress: 4200000\n",
      "Status: LOAD_IN_PROGRESS | Progress: 4350000\n",
      "Status: LOAD_IN_PROGRESS | Progress: 4530000\n",
      "Status: LOAD_IN_PROGRESS | Progress: 4680000\n",
      "Status: LOAD_IN_PROGRESS | Progress: 4830000\n",
      "Status: LOAD_IN_PROGRESS | Progress: 4980000\n",
      "Status: LOAD_IN_PROGRESS | Progress: 5130000\n",
      "Status: LOAD_IN_PROGRESS | Progress: 5280000\n",
      "Status: LOAD_IN_PROGRESS | Progress: 5430000\n",
      "Status: LOAD_IN_PROGRESS | Progress: 5580000\n",
      "Status: LOAD_IN_PROGRESS | Progress: 5700000\n",
      "Status: LOAD_IN_PROGRESS | Progress: 5850000\n",
      "Status: LOAD_IN_PROGRESS | Progress: 6000000\n",
      "Status: LOAD_IN_PROGRESS | Progress: 6150000\n",
      "Status: LOAD_IN_PROGRESS | Progress: 6300000\n",
      "Status: LOAD_IN_PROGRESS | Progress: 6450000\n",
      "Status: LOAD_IN_PROGRESS | Progress: 6600000\n",
      "Status: LOAD_IN_PROGRESS | Progress: 6750000\n",
      "Status: LOAD_IN_PROGRESS | Progress: 6870000\n",
      "Status: LOAD_IN_PROGRESS | Progress: 7020000\n",
      "Status: LOAD_IN_PROGRESS | Progress: 7170000\n",
      "Status: LOAD_IN_PROGRESS | Progress: 7320000\n",
      "Status: LOAD_IN_PROGRESS | Progress: 7440000\n",
      "Status: LOAD_IN_PROGRESS | Progress: 7590000\n",
      "Status: LOAD_IN_PROGRESS | Progress: 7740000\n",
      "Status: LOAD_IN_PROGRESS | Progress: 7890000\n",
      "Status: LOAD_IN_PROGRESS | Progress: 8040000\n",
      "Status: LOAD_IN_PROGRESS | Progress: 8190000\n",
      "Status: LOAD_IN_PROGRESS | Progress: 8340000\n",
      "Status: LOAD_IN_PROGRESS | Progress: 8490000\n",
      "Status: LOAD_IN_PROGRESS | Progress: 8640000\n",
      "Status: LOAD_IN_PROGRESS | Progress: 8790000\n",
      "Status: LOAD_IN_PROGRESS | Progress: 8940000\n",
      "Status: LOAD_IN_PROGRESS | Progress: 9120000\n",
      "Status: LOAD_IN_PROGRESS | Progress: 9270000\n",
      "Status: LOAD_IN_PROGRESS | Progress: 9390000\n",
      "Status: LOAD_IN_PROGRESS | Progress: 9540000\n",
      "Status: LOAD_IN_PROGRESS | Progress: 9690000\n",
      "Status: LOAD_IN_PROGRESS | Progress: 9840000\n",
      "Status: LOAD_IN_PROGRESS | Progress: 9990000\n",
      "Status: LOAD_IN_PROGRESS | Progress: 10140000\n",
      "Status: LOAD_IN_PROGRESS | Progress: 10290000\n",
      "Status: LOAD_IN_PROGRESS | Progress: 10410000\n",
      "Status: LOAD_IN_PROGRESS | Progress: 10560000\n",
      "Status: LOAD_IN_PROGRESS | Progress: 10710000\n",
      "Status: LOAD_IN_PROGRESS | Progress: 10860000\n",
      "Status: LOAD_IN_PROGRESS | Progress: 11010000\n",
      "Status: LOAD_IN_PROGRESS | Progress: 11160000\n",
      "Status: LOAD_IN_PROGRESS | Progress: 11310000\n",
      "Status: LOAD_IN_PROGRESS | Progress: 11460000\n",
      "Status: LOAD_IN_PROGRESS | Progress: 11610000\n",
      "Status: LOAD_IN_PROGRESS | Progress: 11760000\n",
      "Status: LOAD_IN_PROGRESS | Progress: 11910000\n",
      "Status: LOAD_IN_PROGRESS | Progress: 12030000\n",
      "Status: LOAD_IN_PROGRESS | Progress: 12180000\n",
      "Status: LOAD_IN_PROGRESS | Progress: 12330000\n",
      "Status: LOAD_IN_PROGRESS | Progress: 12480000\n",
      "Status: LOAD_IN_PROGRESS | Progress: 12630000\n",
      "Status: LOAD_IN_PROGRESS | Progress: 12780000\n",
      "Status: LOAD_IN_PROGRESS | Progress: 12960000\n",
      "Status: LOAD_IN_PROGRESS | Progress: 13110000\n",
      "Status: LOAD_IN_PROGRESS | Progress: 13260000\n",
      "Status: LOAD_IN_PROGRESS | Progress: 13380000\n",
      "Status: LOAD_IN_PROGRESS | Progress: 13530000\n",
      "Status: LOAD_IN_PROGRESS | Progress: 13680000\n",
      "Status: LOAD_IN_PROGRESS | Progress: 13860000\n",
      "Status: LOAD_IN_PROGRESS | Progress: 13980000\n",
      "Status: LOAD_IN_PROGRESS | Progress: 14130000\n",
      "Status: LOAD_IN_PROGRESS | Progress: 14280000\n",
      "Status: LOAD_IN_PROGRESS | Progress: 14430000\n",
      "Status: LOAD_IN_PROGRESS | Progress: 14580000\n",
      "Status: LOAD_IN_PROGRESS | Progress: 14730000\n",
      "Status: LOAD_IN_PROGRESS | Progress: 14880000\n",
      "Status: LOAD_IN_PROGRESS | Progress: 15030000\n",
      "Status: LOAD_IN_PROGRESS | Progress: 15180000\n",
      "Status: LOAD_IN_PROGRESS | Progress: 15330000\n",
      "Status: LOAD_IN_PROGRESS | Progress: 15480000\n",
      "Status: LOAD_IN_PROGRESS | Progress: 15630000\n",
      "Status: LOAD_IN_PROGRESS | Progress: 15780000\n",
      "Status: LOAD_IN_PROGRESS | Progress: 15930000\n",
      "Status: LOAD_IN_PROGRESS | Progress: 16080000\n",
      "Status: LOAD_IN_PROGRESS | Progress: 16230000\n",
      "Status: LOAD_IN_PROGRESS | Progress: 16380000\n",
      "Status: LOAD_IN_PROGRESS | Progress: 16530000\n",
      "Status: LOAD_IN_PROGRESS | Progress: 16680000\n",
      "Status: LOAD_IN_PROGRESS | Progress: 16830000\n",
      "Status: LOAD_IN_PROGRESS | Progress: 16980000\n",
      "Status: LOAD_IN_PROGRESS | Progress: 17130000\n",
      "Status: LOAD_IN_PROGRESS | Progress: 17280000\n",
      "Status: LOAD_IN_PROGRESS | Progress: 17430000\n",
      "Status: LOAD_IN_PROGRESS | Progress: 17580000\n",
      "Status: LOAD_IN_PROGRESS | Progress: 17700000\n",
      "Status: LOAD_IN_PROGRESS | Progress: 17850000\n",
      "Status: LOAD_IN_PROGRESS | Progress: 18000000\n",
      "Status: LOAD_IN_PROGRESS | Progress: 18150000\n",
      "Status: LOAD_IN_PROGRESS | Progress: 18300000\n",
      "Status: LOAD_IN_PROGRESS | Progress: 18480000\n",
      "Status: LOAD_IN_PROGRESS | Progress: 18630000\n",
      "Status: LOAD_IN_PROGRESS | Progress: 18780000\n",
      "Status: LOAD_IN_PROGRESS | Progress: 18930000\n",
      "Status: LOAD_IN_PROGRESS | Progress: 19080000\n",
      "Status: LOAD_IN_PROGRESS | Progress: 19230000\n",
      "Status: LOAD_IN_PROGRESS | Progress: 19380000\n",
      "Status: LOAD_IN_PROGRESS | Progress: 19530000\n",
      "Status: LOAD_IN_PROGRESS | Progress: 19680000\n",
      "Status: LOAD_IN_PROGRESS | Progress: 19830000\n",
      "Status: LOAD_IN_PROGRESS | Progress: 19980000\n",
      "Status: LOAD_IN_PROGRESS | Progress: 20100000\n",
      "Status: LOAD_IN_PROGRESS | Progress: 20250000\n",
      "Status: LOAD_IN_PROGRESS | Progress: 20370000\n",
      "Status: LOAD_IN_PROGRESS | Progress: 20520000\n",
      "Status: LOAD_IN_PROGRESS | Progress: 20640000\n",
      "Status: LOAD_IN_PROGRESS | Progress: 20760000\n",
      "Status: LOAD_IN_PROGRESS | Progress: 20910000\n",
      "Status: LOAD_IN_PROGRESS | Progress: 21030000\n",
      "Status: LOAD_IN_PROGRESS | Progress: 21180000\n",
      "Status: LOAD_IN_PROGRESS | Progress: 21300000\n",
      "Status: LOAD_IN_PROGRESS | Progress: 21450000\n",
      "Status: LOAD_IN_PROGRESS | Progress: 21570000\n",
      "Status: LOAD_IN_PROGRESS | Progress: 21720000\n",
      "Status: LOAD_IN_PROGRESS | Progress: 21870000\n",
      "Status: LOAD_IN_PROGRESS | Progress: 21990000\n",
      "Status: LOAD_IN_PROGRESS | Progress: 22140000\n",
      "Status: LOAD_IN_PROGRESS | Progress: 22260000\n",
      "Status: LOAD_IN_PROGRESS | Progress: 22410000\n",
      "Status: LOAD_IN_PROGRESS | Progress: 22560000\n",
      "Status: LOAD_IN_PROGRESS | Progress: 22680000\n",
      "Status: LOAD_IN_PROGRESS | Progress: 22830000\n",
      "Status: LOAD_IN_PROGRESS | Progress: 22950000\n",
      "Status: LOAD_IN_PROGRESS | Progress: 23100000\n",
      "Status: LOAD_IN_PROGRESS | Progress: 23220000\n",
      "Status: LOAD_IN_PROGRESS | Progress: 23370000\n",
      "Status: LOAD_IN_PROGRESS | Progress: 23490000\n",
      "Status: LOAD_IN_PROGRESS | Progress: 23640000\n",
      "Status: LOAD_IN_PROGRESS | Progress: 23760000\n",
      "Status: LOAD_IN_PROGRESS | Progress: 23910000\n",
      "Status: LOAD_IN_PROGRESS | Progress: 24030000\n",
      "Status: LOAD_IN_PROGRESS | Progress: 24180000\n",
      "Status: LOAD_IN_PROGRESS | Progress: 24330000\n",
      "Status: LOAD_IN_PROGRESS | Progress: 24450000\n",
      "Status: LOAD_IN_PROGRESS | Progress: 24600000\n",
      "Status: LOAD_IN_PROGRESS | Progress: 24720000\n",
      "Status: LOAD_IN_PROGRESS | Progress: 24870000\n",
      "Status: LOAD_IN_PROGRESS | Progress: 24990000\n",
      "Status: LOAD_IN_PROGRESS | Progress: 25140000\n",
      "Status: LOAD_IN_PROGRESS | Progress: 25290000\n",
      "Status: LOAD_IN_PROGRESS | Progress: 25410000\n",
      "Status: LOAD_IN_PROGRESS | Progress: 25560000\n",
      "Status: LOAD_IN_PROGRESS | Progress: 25710000\n",
      "Status: LOAD_IN_PROGRESS | Progress: 25830000\n",
      "Status: LOAD_IN_PROGRESS | Progress: 25980000\n",
      "Status: LOAD_IN_PROGRESS | Progress: 26100000\n",
      "Status: LOAD_IN_PROGRESS | Progress: 26250000\n",
      "Status: LOAD_IN_PROGRESS | Progress: 26370000\n",
      "Status: LOAD_IN_PROGRESS | Progress: 26520000\n",
      "Status: LOAD_IN_PROGRESS | Progress: 26640000\n",
      "Status: LOAD_IN_PROGRESS | Progress: 26790000\n",
      "Status: LOAD_IN_PROGRESS | Progress: 26910000\n",
      "Status: LOAD_IN_PROGRESS | Progress: 27060000\n",
      "Status: LOAD_IN_PROGRESS | Progress: 27180000\n",
      "Status: LOAD_IN_PROGRESS | Progress: 27330000\n",
      "Status: LOAD_IN_PROGRESS | Progress: 27450000\n",
      "Status: LOAD_IN_PROGRESS | Progress: 27600000\n",
      "Status: LOAD_IN_PROGRESS | Progress: 27720000\n",
      "Status: LOAD_IN_PROGRESS | Progress: 27870000\n",
      "Status: LOAD_IN_PROGRESS | Progress: 27990000\n",
      "Status: LOAD_IN_PROGRESS | Progress: 28140000\n",
      "Status: LOAD_IN_PROGRESS | Progress: 28260000\n",
      "Status: LOAD_IN_PROGRESS | Progress: 28410000\n",
      "Status: LOAD_IN_PROGRESS | Progress: 28530000\n",
      "Status: LOAD_IN_PROGRESS | Progress: 28680000\n",
      "Status: LOAD_IN_PROGRESS | Progress: 28800000\n",
      "Status: LOAD_IN_PROGRESS | Progress: 28950000\n",
      "Status: LOAD_IN_PROGRESS | Progress: 29070000\n",
      "Status: LOAD_COMPLETED | Progress: 29166672\n"
     ]
    },
    {
     "data": {
      "text/plain": [
       "{'status': '200 OK',\n",
       " 'payload': {'feedCount': [{'LOAD_COMPLETED': 1}],\n",
       "  'overallStatus': {'fullUri': 's3://datasets-in-out/input/road-usa/',\n",
       "   'runNumber': 7,\n",
       "   'retryNumber': 1,\n",
       "   'status': 'LOAD_COMPLETED',\n",
       "   'totalTimeSpent': 3115,\n",
       "   'startTime': 1761518371,\n",
       "   'totalRecords': 29166672,\n",
       "   'totalDuplicates': 0,\n",
       "   'parsingErrors': 0,\n",
       "   'datatypeMismatchErrors': 0,\n",
       "   'insertErrors': 0}}}"
      ]
     },
     "execution_count": 38,
     "metadata": {},
     "output_type": "execute_result"
    }
   ],
   "source": [
    "# load_id = \"ad935740-bc76-402c-95ca-8bbef195adf6\" #uncomment for testing/hardcoding\n",
    "poll_bulk_load(neptune_endpoint, port, load_id, poll_seconds=15)"
   ]
  },
  {
   "cell_type": "code",
   "execution_count": 39,
   "id": "a29100d5-1a1a-4ab5-ae07-48d41fd36c6a",
   "metadata": {},
   "outputs": [
    {
     "name": "stdout",
     "output_type": "stream",
     "text": [
      "400\n",
      "{\"code\":\"BadRequestException\",\"requestId\":\"80cd1175-4fb5-bc6d-8fe2-acd61c1fdca0\",\"detailedMessage\":\"Bad route: /loaderloader/c653d91f-cfe8-41fa-a0b9-f9c67f6a9dc8\",\"message\":\"Bad route: /loaderloader/c653d91f-cfe8-41fa-a0b9-f9c67f6a9dc8\"}\n"
     ]
    }
   ],
   "source": [
    "aws_auth = AWSSigV4(service, region=region)\n",
    "params = {\n",
    "           \"details\":True,\n",
    "           \"errors\":True,\n",
    "           \"page\":1,\n",
    "           \"errorsPerPage\":5\n",
    "          }\n",
    "resp = requests.get(url + load + load_id, \n",
    "                 #json=payload, \n",
    "                 params=params,\n",
    "                 timeout=180, \n",
    "                 verify=VERIFY_TLS,\n",
    "                 auth=aws_auth\n",
    "                )                        \n",
    "#resp.raise_for_status()\n",
    "print(resp.status_code)\n",
    "data = resp.text\n",
    "print(data)"
   ]
  },
  {
   "cell_type": "code",
   "execution_count": null,
   "id": "9a5376a4-5f49-49ab-aa6a-12920ce639e6",
   "metadata": {},
   "outputs": [],
   "source": [
    "#q2o5680"
   ]
  },
  {
   "cell_type": "code",
   "execution_count": 23,
   "id": "0d73a0f3-1c2d-4a41-9bd6-7b908950e310",
   "metadata": {},
   "outputs": [
    {
     "name": "stdout",
     "output_type": "stream",
     "text": [
      "{\"code\":\"AccessDeniedException\",\"requestId\":\"6ccd0f53-295c-57d3-81db-dddd13c681b3\",\"detailedMessage\":\"Missing Authentication Token\",\"message\":\"Missing Authentication Token\"}"
     ]
    }
   ],
   "source": [
    "!curl \"https://\"$neptune_endpoint\":8182/openCypher/status\" \\\n",
    "  --data-urlencode \"includeWaiting=true\""
   ]
  },
  {
   "cell_type": "code",
   "execution_count": 13,
   "id": "401ce6bc-4f28-45c1-a708-c19119cf4107",
   "metadata": {},
   "outputs": [
    {
     "name": "stdout",
     "output_type": "stream",
     "text": [
      "200\n",
      "{\n",
      "  \"results\": [{\n",
      "      \"n\": {\n",
      "        \"~id\": \"1\",\n",
      "        \"~entityType\": \"node\",\n",
      "        \"~labels\": [\"vertex\"],\n",
      "        \"~properties\": {\n",
      "          \"longitude\": -86436719,\n",
      "          \"latitude\": 32469271\n",
      "        }\n",
      "      }\n",
      "    }]\n",
      "}\n"
     ]
    }
   ],
   "source": [
    "payload = {\n",
    "    \"query\": \"MATCH (n) WHERE n.longitude=$lon RETURN n\",\n",
    "    \"parameters\": {\n",
    "        \"lon\": -86436719\n",
    "    }\n",
    "}\n",
    "\n",
    "\n",
    "aws_auth = AWSSigV4(service, region=region)\n",
    "resp = requests.post(url + query, \n",
    "                 json=payload, \n",
    "                 params=params,\n",
    "                 timeout=180, \n",
    "                 verify=VERIFY_TLS,\n",
    "                 auth=aws_auth\n",
    "                 # headers=headers\n",
    "                )                        \n",
    "#resp.raise_for_status()\n",
    "print(resp.status_code)\n",
    "data = resp.text\n",
    "print(data)"
   ]
  },
  {
   "cell_type": "code",
   "execution_count": 40,
   "id": "e3114532-df53-4b5c-b647-304f3133027b",
   "metadata": {},
   "outputs": [
    {
     "name": "stdout",
     "output_type": "stream",
     "text": [
      "200\n",
      "{\n",
      "  \"results\": [{\n",
      "      \"totalNodes\": 23947347\n",
      "    }]\n",
      "}\n"
     ]
    }
   ],
   "source": [
    "#count the nodes and vertexes\n",
    "\n",
    "payload = {\n",
    "    \"query\": \"MATCH (n) RETURN count(n) AS totalNodes\",\n",
    "}\n",
    "\n",
    "url = f\"https://{neptune_endpoint}:{port}/openCypher\" \n",
    "aws_auth = AWSSigV4(service, region=region)\n",
    "resp = requests.post(url, \n",
    "                 json=payload, \n",
    "                 params=params,\n",
    "                 timeout=180, \n",
    "                 verify=VERIFY_TLS,\n",
    "                 auth=aws_auth\n",
    "                 # headers=headers\n",
    "                )                        \n",
    "#resp.raise_for_status()\n",
    "print(resp.status_code)\n",
    "data = resp.text\n",
    "print(data)"
   ]
  },
  {
   "cell_type": "code",
   "execution_count": 41,
   "id": "5c416254-2371-4e8e-94b0-1c7bfb137964",
   "metadata": {},
   "outputs": [
    {
     "name": "stdout",
     "output_type": "stream",
     "text": [
      "200\n",
      "{\n",
      "  \"results\": [{\n",
      "      \"totalEdges\": 35619482\n",
      "    }]\n",
      "}\n"
     ]
    }
   ],
   "source": [
    "payload = {\n",
    "    \"query\": \"MATCH ()-[r]->() RETURN count(r) AS totalEdges\",\n",
    "}\n",
    "url = f\"https://{neptune_endpoint}:{port}/openCypher\" \n",
    "aws_auth = AWSSigV4(service, region=region)\n",
    "resp = requests.post(url, \n",
    "                 json=payload, \n",
    "                 params=params,\n",
    "                 timeout=180, \n",
    "                 verify=VERIFY_TLS,\n",
    "                 auth=aws_auth\n",
    "                 # headers=headers\n",
    "                )                        \n",
    "#resp.raise_for_status()\n",
    "print(resp.status_code)\n",
    "data = resp.text\n",
    "print(data)"
   ]
  },
  {
   "cell_type": "code",
   "execution_count": null,
   "id": "72947fc1-96ae-4b75-a099-4efd02b3171f",
   "metadata": {},
   "outputs": [],
   "source": []
  }
 ],
 "metadata": {
  "kernelspec": {
   "display_name": "conda_pytorch_p310",
   "language": "python",
   "name": "conda_pytorch_p310"
  },
  "language_info": {
   "codemirror_mode": {
    "name": "ipython",
    "version": 3
   },
   "file_extension": ".py",
   "mimetype": "text/x-python",
   "name": "python",
   "nbconvert_exporter": "python",
   "pygments_lexer": "ipython3",
   "version": "3.10.18"
  }
 },
 "nbformat": 4,
 "nbformat_minor": 5
}
